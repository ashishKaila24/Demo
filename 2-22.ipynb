{
 "cells": [
  {
   "cell_type": "code",
   "execution_count": 4,
   "id": "87aaef7b",
   "metadata": {},
   "outputs": [
    {
     "name": "stdout",
     "output_type": "stream",
     "text": [
      "Please enter string : a\n",
      "\n"
     ]
    }
   ],
   "source": [
    "a = input(\"Please enter string : \")\n",
    "if len(a) > 1:\n",
    "    b = a[:2]\n",
    "    c = a[-2:]\n",
    "    print(b + c)\n",
    "else :\n",
    "    print(\"\")"
   ]
  },
  {
   "cell_type": "code",
   "execution_count": null,
   "id": "d18b97a1",
   "metadata": {},
   "outputs": [],
   "source": []
  }
 ],
 "metadata": {
  "kernelspec": {
   "display_name": "Python 3 (ipykernel)",
   "language": "python",
   "name": "python3"
  },
  "language_info": {
   "codemirror_mode": {
    "name": "ipython",
    "version": 3
   },
   "file_extension": ".py",
   "mimetype": "text/x-python",
   "name": "python",
   "nbconvert_exporter": "python",
   "pygments_lexer": "ipython3",
   "version": "3.9.12"
  }
 },
 "nbformat": 4,
 "nbformat_minor": 5
}
