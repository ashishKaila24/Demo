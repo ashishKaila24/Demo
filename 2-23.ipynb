{
 "cells": [
  {
   "cell_type": "code",
   "execution_count": 1,
   "id": "48739e34",
   "metadata": {},
   "outputs": [
    {
     "name": "stdout",
     "output_type": "stream",
     "text": [
      "[[python]]\n"
     ]
    }
   ],
   "source": [
    "def fun(str,word):\n",
    "    return str[:2] + word + str[2:]\n",
    "print(fun('[[]]','python'))"
   ]
  },
  {
   "cell_type": "code",
   "execution_count": 6,
   "id": "ab7d107f",
   "metadata": {},
   "outputs": [
    {
     "name": "stdout",
     "output_type": "stream",
     "text": [
      "hello, what are you doing\n"
     ]
    }
   ],
   "source": [
    "my_str = \"hello, what are doing\"\n",
    "a = my_str.split(\" \")\n",
    "a.insert(3, \"you\")\n",
    "c = ' '.join(a)\n",
    "print(c)"
   ]
  },
  {
   "cell_type": "code",
   "execution_count": null,
   "id": "16c951d0",
   "metadata": {},
   "outputs": [],
   "source": []
  }
 ],
 "metadata": {
  "kernelspec": {
   "display_name": "Python 3 (ipykernel)",
   "language": "python",
   "name": "python3"
  },
  "language_info": {
   "codemirror_mode": {
    "name": "ipython",
    "version": 3
   },
   "file_extension": ".py",
   "mimetype": "text/x-python",
   "name": "python",
   "nbconvert_exporter": "python",
   "pygments_lexer": "ipython3",
   "version": "3.9.12"
  }
 },
 "nbformat": 4,
 "nbformat_minor": 5
}
