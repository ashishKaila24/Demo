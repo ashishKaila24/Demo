{
 "cells": [
  {
   "cell_type": "code",
   "execution_count": 2,
   "id": "f20a18f9",
   "metadata": {},
   "outputs": [
    {
     "name": "stdout",
     "output_type": "stream",
     "text": [
      "Please enter string : ashish\n",
      "ashish\n"
     ]
    }
   ],
   "source": [
    "def rev(a):\n",
    "    if len(a) % 4 == 0:\n",
    "        return a[::-1]\n",
    "    else :\n",
    "        return a\n",
    "x = input(\"Please enter string : \")\n",
    "y = rev(x)\n",
    "print(y)"
   ]
  },
  {
   "cell_type": "code",
   "execution_count": null,
   "id": "a3b1d5fd",
   "metadata": {},
   "outputs": [],
   "source": []
  }
 ],
 "metadata": {
  "kernelspec": {
   "display_name": "Python 3 (ipykernel)",
   "language": "python",
   "name": "python3"
  },
  "language_info": {
   "codemirror_mode": {
    "name": "ipython",
    "version": 3
   },
   "file_extension": ".py",
   "mimetype": "text/x-python",
   "name": "python",
   "nbconvert_exporter": "python",
   "pygments_lexer": "ipython3",
   "version": "3.9.12"
  }
 },
 "nbformat": 4,
 "nbformat_minor": 5
}
