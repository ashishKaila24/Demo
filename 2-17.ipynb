{
 "cells": [
  {
   "cell_type": "code",
   "execution_count": 4,
   "id": "30a04d6f",
   "metadata": {},
   "outputs": [
    {
     "name": "stdout",
     "output_type": "stream",
     "text": [
      "Asshant Nihish\n"
     ]
    }
   ],
   "source": [
    "a = \"Ashish\"\n",
    "b = \"Nishant\"\n",
    "c = a[:2] + b[2:]\n",
    "#print(c)\n",
    "d = b[:2] + a[2:]\n",
    "#print(d)\n",
    "print(c,d)"
   ]
  },
  {
   "cell_type": "markdown",
   "id": "aeb0660f",
   "metadata": {},
   "source": []
  }
 ],
 "metadata": {
  "kernelspec": {
   "display_name": "Python 3 (ipykernel)",
   "language": "python",
   "name": "python3"
  },
  "language_info": {
   "codemirror_mode": {
    "name": "ipython",
    "version": 3
   },
   "file_extension": ".py",
   "mimetype": "text/x-python",
   "name": "python",
   "nbconvert_exporter": "python",
   "pygments_lexer": "ipython3",
   "version": "3.9.12"
  }
 },
 "nbformat": 4,
 "nbformat_minor": 5
}
